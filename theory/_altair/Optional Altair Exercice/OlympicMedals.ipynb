{
 "cells": [
  {
   "cell_type": "code",
   "execution_count": 1,
   "metadata": {},
   "outputs": [
    {
     "name": "stdout",
     "output_type": "stream",
     "text": [
      "Collecting altair\n",
      "  Obtaining dependency information for altair from https://files.pythonhosted.org/packages/f2/b4/02a0221bd1da91f6e6acdf0525528db24b4b326a670a9048da474dfe0667/altair-5.1.1-py3-none-any.whl.metadata\n",
      "  Downloading altair-5.1.1-py3-none-any.whl.metadata (8.6 kB)\n",
      "Collecting vega_datasets\n",
      "  Using cached vega_datasets-0.9.0-py3-none-any.whl (210 kB)\n",
      "Collecting jinja2 (from altair)\n",
      "  Downloading Jinja2-3.1.2-py3-none-any.whl (133 kB)\n",
      "     ---------------------------------------- 0.0/133.1 kB ? eta -:--:--\n",
      "     -------------------------------------- 133.1/133.1 kB 3.8 MB/s eta 0:00:00\n",
      "Collecting jsonschema>=3.0 (from altair)\n",
      "  Obtaining dependency information for jsonschema>=3.0 from https://files.pythonhosted.org/packages/0f/bf/a84bc75f069f4f156e1c0d9892fb7325945106c6ecaad9f29d24360872af/jsonschema-4.19.1-py3-none-any.whl.metadata\n",
      "  Downloading jsonschema-4.19.1-py3-none-any.whl.metadata (7.9 kB)\n",
      "Requirement already satisfied: numpy in c:\\python39\\lib\\site-packages (from altair) (1.25.1)\n",
      "Requirement already satisfied: packaging in c:\\python39\\lib\\site-packages (from altair) (23.1)\n",
      "Collecting pandas>=0.25 (from altair)\n",
      "  Obtaining dependency information for pandas>=0.25 from https://files.pythonhosted.org/packages/f2/8c/35364a11b3e25f8e29a35420b0d18f65ec4f9d6d38e86a62d16ef998923c/pandas-2.1.1-cp39-cp39-win_amd64.whl.metadata\n",
      "  Downloading pandas-2.1.1-cp39-cp39-win_amd64.whl.metadata (18 kB)\n",
      "Collecting toolz (from altair)\n",
      "  Downloading toolz-0.12.0-py3-none-any.whl (55 kB)\n",
      "     ---------------------------------------- 0.0/55.8 kB ? eta -:--:--\n",
      "     ---------------------------------------- 55.8/55.8 kB ? eta 0:00:00\n",
      "Requirement already satisfied: typing-extensions>=4.0.1 in c:\\users\\hp\\appdata\\roaming\\python\\python39\\site-packages (from altair) (4.7.1)\n",
      "Collecting attrs>=22.2.0 (from jsonschema>=3.0->altair)\n",
      "  Downloading attrs-23.1.0-py3-none-any.whl (61 kB)\n",
      "     ---------------------------------------- 0.0/61.2 kB ? eta -:--:--\n",
      "     ---------------------------------------- 61.2/61.2 kB ? eta 0:00:00\n",
      "Collecting jsonschema-specifications>=2023.03.6 (from jsonschema>=3.0->altair)\n",
      "  Obtaining dependency information for jsonschema-specifications>=2023.03.6 from https://files.pythonhosted.org/packages/1c/24/83349ac2189cc2435e84da3f69ba3c97314d3c0622628e55171c6798ed80/jsonschema_specifications-2023.7.1-py3-none-any.whl.metadata\n",
      "  Downloading jsonschema_specifications-2023.7.1-py3-none-any.whl.metadata (2.8 kB)\n",
      "Collecting referencing>=0.28.4 (from jsonschema>=3.0->altair)\n",
      "  Obtaining dependency information for referencing>=0.28.4 from https://files.pythonhosted.org/packages/be/8e/56d6f1e2d591f4d6cbcba446cac4a1b0dc4f584537e2071d9bcee8eeab6b/referencing-0.30.2-py3-none-any.whl.metadata\n",
      "  Downloading referencing-0.30.2-py3-none-any.whl.metadata (2.6 kB)\n",
      "Collecting rpds-py>=0.7.1 (from jsonschema>=3.0->altair)\n",
      "  Obtaining dependency information for rpds-py>=0.7.1 from https://files.pythonhosted.org/packages/0a/3b/da48a81526487acc4c8f1a0715bbd426eedeace7152f81ed3fd8cd563145/rpds_py-0.10.3-cp39-none-win_amd64.whl.metadata\n",
      "  Downloading rpds_py-0.10.3-cp39-none-win_amd64.whl.metadata (3.8 kB)\n",
      "Requirement already satisfied: python-dateutil>=2.8.2 in c:\\python39\\lib\\site-packages (from pandas>=0.25->altair) (2.8.2)\n",
      "Collecting pytz>=2020.1 (from pandas>=0.25->altair)\n",
      "  Obtaining dependency information for pytz>=2020.1 from https://files.pythonhosted.org/packages/32/4d/aaf7eff5deb402fd9a24a1449a8119f00d74ae9c2efa79f8ef9994261fc2/pytz-2023.3.post1-py2.py3-none-any.whl.metadata\n",
      "  Downloading pytz-2023.3.post1-py2.py3-none-any.whl.metadata (22 kB)\n",
      "Collecting tzdata>=2022.1 (from pandas>=0.25->altair)\n",
      "  Downloading tzdata-2023.3-py2.py3-none-any.whl (341 kB)\n",
      "     ---------------------------------------- 0.0/341.8 kB ? eta -:--:--\n",
      "     ------------------------------------- 341.8/341.8 kB 10.4 MB/s eta 0:00:00\n",
      "Collecting MarkupSafe>=2.0 (from jinja2->altair)\n",
      "  Obtaining dependency information for MarkupSafe>=2.0 from https://files.pythonhosted.org/packages/a2/b2/624042cb58cc6b3529a6c3a7b7d230766e3ecb768cba118ba7befd18ed6f/MarkupSafe-2.1.3-cp39-cp39-win_amd64.whl.metadata\n",
      "  Downloading MarkupSafe-2.1.3-cp39-cp39-win_amd64.whl.metadata (3.1 kB)\n",
      "Requirement already satisfied: six>=1.5 in c:\\python39\\lib\\site-packages (from python-dateutil>=2.8.2->pandas>=0.25->altair) (1.16.0)\n",
      "Downloading altair-5.1.1-py3-none-any.whl (520 kB)\n",
      "   ---------------------------------------- 0.0/520.6 kB ? eta -:--:--\n",
      "   --------------------------------------  512.0/520.6 kB 16.2 MB/s eta 0:00:01\n",
      "   --------------------------------------- 520.6/520.6 kB 11.1 MB/s eta 0:00:00\n",
      "Downloading jsonschema-4.19.1-py3-none-any.whl (83 kB)\n",
      "   ---------------------------------------- 0.0/83.3 kB ? eta -:--:--\n",
      "   ---------------------------------------- 83.3/83.3 kB ? eta 0:00:00\n",
      "Downloading pandas-2.1.1-cp39-cp39-win_amd64.whl (10.8 MB)\n",
      "   ---------------------------------------- 0.0/10.8 MB ? eta -:--:--\n",
      "   -- ------------------------------------- 0.6/10.8 MB 12.2 MB/s eta 0:00:01\n",
      "   ---- ----------------------------------- 1.1/10.8 MB 12.1 MB/s eta 0:00:01\n",
      "   ---- ----------------------------------- 1.3/10.8 MB 12.1 MB/s eta 0:00:01\n",
      "   -------- ------------------------------- 2.2/10.8 MB 11.7 MB/s eta 0:00:01\n",
      "   ---------- ----------------------------- 2.7/10.8 MB 11.6 MB/s eta 0:00:01\n",
      "   ------------ --------------------------- 3.3/10.8 MB 11.6 MB/s eta 0:00:01\n",
      "   -------------- ------------------------- 3.8/10.8 MB 11.6 MB/s eta 0:00:01\n",
      "   --------------- ------------------------ 4.3/10.8 MB 11.9 MB/s eta 0:00:01\n",
      "   ----------------- ---------------------- 4.6/10.8 MB 11.4 MB/s eta 0:00:01\n",
      "   ------------------- -------------------- 5.4/10.8 MB 11.8 MB/s eta 0:00:01\n",
      "   --------------------- ------------------ 5.9/10.8 MB 11.8 MB/s eta 0:00:01\n",
      "   ----------------------- ---------------- 6.4/10.8 MB 11.6 MB/s eta 0:00:01\n",
      "   -------------------------- ------------- 7.1/10.8 MB 11.4 MB/s eta 0:00:01\n",
      "   ----------------------------- ---------- 7.9/10.8 MB 11.4 MB/s eta 0:00:01\n",
      "   ------------------------------- -------- 8.6/10.8 MB 11.5 MB/s eta 0:00:01\n",
      "   --------------------------------- ------ 9.2/10.8 MB 11.5 MB/s eta 0:00:01\n",
      "   ----------------------------------- ---- 9.7/10.8 MB 11.4 MB/s eta 0:00:01\n",
      "   -------------------------------------- - 10.4/10.8 MB 11.5 MB/s eta 0:00:01\n",
      "   ---------------------------------------  10.8/10.8 MB 11.5 MB/s eta 0:00:01\n",
      "   ---------------------------------------- 10.8/10.8 MB 10.6 MB/s eta 0:00:00\n",
      "Downloading jsonschema_specifications-2023.7.1-py3-none-any.whl (17 kB)\n",
      "Downloading MarkupSafe-2.1.3-cp39-cp39-win_amd64.whl (17 kB)\n",
      "Downloading pytz-2023.3.post1-py2.py3-none-any.whl (502 kB)\n",
      "   ---------------------------------------- 0.0/502.5 kB ? eta -:--:--\n",
      "   --------------------------------------  501.8/502.5 kB 15.9 MB/s eta 0:00:01\n",
      "   ---------------------------------------- 502.5/502.5 kB 7.9 MB/s eta 0:00:00\n",
      "Downloading referencing-0.30.2-py3-none-any.whl (25 kB)\n",
      "Downloading rpds_py-0.10.3-cp39-none-win_amd64.whl (186 kB)\n",
      "   ---------------------------------------- 0.0/186.1 kB ? eta -:--:--\n",
      "   --------------------------------------- 186.1/186.1 kB 11.0 MB/s eta 0:00:00\n",
      "Installing collected packages: pytz, tzdata, toolz, rpds-py, MarkupSafe, attrs, referencing, pandas, jinja2, vega_datasets, jsonschema-specifications, jsonschema, altair\n",
      "Note: you may need to restart the kernel to use updated packages.\n"
     ]
    },
    {
     "name": "stderr",
     "output_type": "stream",
     "text": [
      "WARNING: Ignoring invalid distribution - (c:\\python39\\lib\\site-packages)\n",
      "WARNING: Ignoring invalid distribution -ip (c:\\python39\\lib\\site-packages)\n",
      "WARNING: Ignoring invalid distribution - (c:\\python39\\lib\\site-packages)\n",
      "WARNING: Ignoring invalid distribution -ip (c:\\python39\\lib\\site-packages)\n",
      "  WARNING: Failed to write executable - trying to use .deleteme logic\n",
      "ERROR: Could not install packages due to an OSError: [WinError 2] The system cannot find the file specified: 'c:\\\\Python39\\\\Scripts\\\\jsonschema.exe' -> 'c:\\\\Python39\\\\Scripts\\\\jsonschema.exe.deleteme'\n",
      "\n",
      "\n",
      "[notice] A new release of pip is available: 23.2 -> 23.2.1\n",
      "[notice] To update, run: python.exe -m pip install --upgrade pip\n"
     ]
    }
   ],
   "source": [
    "pip install altair vega_datasets\n"
   ]
  },
  {
   "cell_type": "code",
   "execution_count": 2,
   "metadata": {},
   "outputs": [
    {
     "name": "stdout",
     "output_type": "stream",
     "text": [
      "Collecting openpyxl\n",
      "  Downloading openpyxl-3.1.2-py2.py3-none-any.whl (249 kB)\n",
      "     ---------------------------------------- 0.0/250.0 kB ? eta -:--:--\n",
      "     -------------------------------------  245.8/250.0 kB 7.4 MB/s eta 0:00:01\n",
      "     -------------------------------------- 250.0/250.0 kB 3.0 MB/s eta 0:00:00\n",
      "Collecting et-xmlfile (from openpyxl)\n",
      "  Using cached et_xmlfile-1.1.0-py3-none-any.whl (4.7 kB)\n",
      "Installing collected packages: et-xmlfile, openpyxl\n",
      "Successfully installed et-xmlfile-1.1.0 openpyxl-3.1.2\n",
      "Note: you may need to restart the kernel to use updated packages.\n"
     ]
    },
    {
     "name": "stderr",
     "output_type": "stream",
     "text": [
      "WARNING: Ignoring invalid distribution - (c:\\python39\\lib\\site-packages)\n",
      "WARNING: Ignoring invalid distribution -ip (c:\\python39\\lib\\site-packages)\n",
      "WARNING: Ignoring invalid distribution - (c:\\python39\\lib\\site-packages)\n",
      "WARNING: Ignoring invalid distribution -ip (c:\\python39\\lib\\site-packages)\n",
      "\n",
      "[notice] A new release of pip is available: 23.2 -> 23.2.1\n",
      "[notice] To update, run: python.exe -m pip install --upgrade pip\n"
     ]
    }
   ],
   "source": [
    "pip install openpyxl"
   ]
  },
  {
   "cell_type": "code",
   "execution_count": 4,
   "metadata": {},
   "outputs": [
    {
     "name": "stdout",
     "output_type": "stream",
     "text": [
      "Collecting altair\n",
      "  Obtaining dependency information for altair from https://files.pythonhosted.org/packages/f2/b4/02a0221bd1da91f6e6acdf0525528db24b4b326a670a9048da474dfe0667/altair-5.1.1-py3-none-any.whl.metadata\n",
      "  Using cached altair-5.1.1-py3-none-any.whl.metadata (8.6 kB)\n",
      "Requirement already satisfied: jinja2 in c:\\python39\\lib\\site-packages (from altair) (3.1.2)\n",
      "Requirement already satisfied: jsonschema>=3.0 in c:\\python39\\lib\\site-packages (from altair) (4.19.1)\n",
      "Requirement already satisfied: numpy in c:\\python39\\lib\\site-packages (from altair) (1.25.1)\n",
      "Requirement already satisfied: packaging in c:\\python39\\lib\\site-packages (from altair) (23.1)\n",
      "Requirement already satisfied: pandas>=0.25 in c:\\python39\\lib\\site-packages (from altair) (2.1.1)\n",
      "Requirement already satisfied: toolz in c:\\python39\\lib\\site-packages (from altair) (0.12.0)\n",
      "Requirement already satisfied: typing-extensions>=4.0.1 in c:\\users\\hp\\appdata\\roaming\\python\\python39\\site-packages (from altair) (4.7.1)\n",
      "Requirement already satisfied: attrs>=22.2.0 in c:\\python39\\lib\\site-packages (from jsonschema>=3.0->altair) (23.1.0)\n",
      "Requirement already satisfied: jsonschema-specifications>=2023.03.6 in c:\\python39\\lib\\site-packages (from jsonschema>=3.0->altair) (2023.7.1)\n",
      "Requirement already satisfied: referencing>=0.28.4 in c:\\python39\\lib\\site-packages (from jsonschema>=3.0->altair) (0.30.2)\n",
      "Requirement already satisfied: rpds-py>=0.7.1 in c:\\python39\\lib\\site-packages (from jsonschema>=3.0->altair) (0.10.3)\n",
      "Requirement already satisfied: python-dateutil>=2.8.2 in c:\\python39\\lib\\site-packages (from pandas>=0.25->altair) (2.8.2)\n",
      "Requirement already satisfied: pytz>=2020.1 in c:\\python39\\lib\\site-packages (from pandas>=0.25->altair) (2023.3.post1)\n",
      "Requirement already satisfied: tzdata>=2022.1 in c:\\python39\\lib\\site-packages (from pandas>=0.25->altair) (2023.3)\n",
      "Requirement already satisfied: MarkupSafe>=2.0 in c:\\python39\\lib\\site-packages (from jinja2->altair) (2.1.3)\n",
      "Requirement already satisfied: six>=1.5 in c:\\python39\\lib\\site-packages (from python-dateutil>=2.8.2->pandas>=0.25->altair) (1.16.0)\n",
      "Using cached altair-5.1.1-py3-none-any.whl (520 kB)\n",
      "Installing collected packages: altair\n",
      "Successfully installed altair-5.1.1\n",
      "Note: you may need to restart the kernel to use updated packages.\n"
     ]
    },
    {
     "name": "stderr",
     "output_type": "stream",
     "text": [
      "WARNING: Ignoring invalid distribution - (c:\\python39\\lib\\site-packages)\n",
      "WARNING: Ignoring invalid distribution -ip (c:\\python39\\lib\\site-packages)\n",
      "WARNING: Ignoring invalid distribution - (c:\\python39\\lib\\site-packages)\n",
      "WARNING: Ignoring invalid distribution -ip (c:\\python39\\lib\\site-packages)\n",
      "\n",
      "[notice] A new release of pip is available: 23.2 -> 23.2.1\n",
      "[notice] To update, run: python.exe -m pip install --upgrade pip\n"
     ]
    }
   ],
   "source": [
    "pip install altair "
   ]
  },
  {
   "cell_type": "code",
   "execution_count": 5,
   "metadata": {
    "colab": {},
    "colab_type": "code",
    "id": "snEZ-NkseZBA",
    "outputId": "a9b75abe-7cb7-433b-a235-a2d08ff5e983"
   },
   "outputs": [
    {
     "data": {
      "text/plain": [
       "DataTransformerRegistry.enable('default')"
      ]
     },
     "execution_count": 5,
     "metadata": {},
     "output_type": "execute_result"
    }
   ],
   "source": [
    "import pandas as pd\n",
    "import altair as alt\n",
    "# to avoid max number of rows error\n",
    "alt.data_transformers.enable('default', max_rows=None)"
   ]
  },
  {
   "cell_type": "code",
   "execution_count": 6,
   "metadata": {
    "colab": {},
    "colab_type": "code",
    "id": "kftCdj5SeZBG"
   },
   "outputs": [],
   "source": [
    "df = pd.read_excel('SummerOlympicMedals.xlsx')"
   ]
  },
  {
   "cell_type": "code",
   "execution_count": 7,
   "metadata": {
    "colab": {},
    "colab_type": "code",
    "id": "Byl17piEeZBJ",
    "outputId": "e37f3107-d30b-4c8c-b86a-47963aeb899c"
   },
   "outputs": [
    {
     "data": {
      "text/html": [
       "<div>\n",
       "<style scoped>\n",
       "    .dataframe tbody tr th:only-of-type {\n",
       "        vertical-align: middle;\n",
       "    }\n",
       "\n",
       "    .dataframe tbody tr th {\n",
       "        vertical-align: top;\n",
       "    }\n",
       "\n",
       "    .dataframe thead th {\n",
       "        text-align: right;\n",
       "    }\n",
       "</style>\n",
       "<table border=\"1\" class=\"dataframe\">\n",
       "  <thead>\n",
       "    <tr style=\"text-align: right;\">\n",
       "      <th></th>\n",
       "      <th>City</th>\n",
       "      <th>Year</th>\n",
       "      <th>Sport</th>\n",
       "      <th>Discipline</th>\n",
       "      <th>Event</th>\n",
       "      <th>Athlete</th>\n",
       "      <th>Gender</th>\n",
       "      <th>Country_Code</th>\n",
       "      <th>Country</th>\n",
       "      <th>Event_gender</th>\n",
       "      <th>Medal</th>\n",
       "    </tr>\n",
       "  </thead>\n",
       "  <tbody>\n",
       "    <tr>\n",
       "      <th>0</th>\n",
       "      <td>Montreal</td>\n",
       "      <td>1976.0</td>\n",
       "      <td>Aquatics</td>\n",
       "      <td>Diving</td>\n",
       "      <td>3m springboard</td>\n",
       "      <td>KÖHLER, Christa</td>\n",
       "      <td>Women</td>\n",
       "      <td>GDR</td>\n",
       "      <td>East Germany</td>\n",
       "      <td>W</td>\n",
       "      <td>Silver</td>\n",
       "    </tr>\n",
       "    <tr>\n",
       "      <th>1</th>\n",
       "      <td>Montreal</td>\n",
       "      <td>1976.0</td>\n",
       "      <td>Aquatics</td>\n",
       "      <td>Diving</td>\n",
       "      <td>3m springboard</td>\n",
       "      <td>KOSENKOV, Aleksandr</td>\n",
       "      <td>Men</td>\n",
       "      <td>URS</td>\n",
       "      <td>Soviet Union</td>\n",
       "      <td>M</td>\n",
       "      <td>Bronze</td>\n",
       "    </tr>\n",
       "    <tr>\n",
       "      <th>2</th>\n",
       "      <td>Montreal</td>\n",
       "      <td>1976.0</td>\n",
       "      <td>Aquatics</td>\n",
       "      <td>Diving</td>\n",
       "      <td>3m springboard</td>\n",
       "      <td>BOGGS, Philip George</td>\n",
       "      <td>Men</td>\n",
       "      <td>USA</td>\n",
       "      <td>United States</td>\n",
       "      <td>M</td>\n",
       "      <td>Gold</td>\n",
       "    </tr>\n",
       "    <tr>\n",
       "      <th>3</th>\n",
       "      <td>Montreal</td>\n",
       "      <td>1976.0</td>\n",
       "      <td>Aquatics</td>\n",
       "      <td>Diving</td>\n",
       "      <td>3m springboard</td>\n",
       "      <td>CAGNOTTO, Giorgio Franco</td>\n",
       "      <td>Men</td>\n",
       "      <td>ITA</td>\n",
       "      <td>Italy</td>\n",
       "      <td>M</td>\n",
       "      <td>Silver</td>\n",
       "    </tr>\n",
       "    <tr>\n",
       "      <th>4</th>\n",
       "      <td>Montreal</td>\n",
       "      <td>1976.0</td>\n",
       "      <td>Aquatics</td>\n",
       "      <td>Diving</td>\n",
       "      <td>10m platform</td>\n",
       "      <td>WILSON, Deborah Keplar</td>\n",
       "      <td>Women</td>\n",
       "      <td>USA</td>\n",
       "      <td>United States</td>\n",
       "      <td>W</td>\n",
       "      <td>Bronze</td>\n",
       "    </tr>\n",
       "  </tbody>\n",
       "</table>\n",
       "</div>"
      ],
      "text/plain": [
       "       City    Year     Sport Discipline           Event  \\\n",
       "0  Montreal  1976.0  Aquatics     Diving  3m springboard   \n",
       "1  Montreal  1976.0  Aquatics     Diving  3m springboard   \n",
       "2  Montreal  1976.0  Aquatics     Diving  3m springboard   \n",
       "3  Montreal  1976.0  Aquatics     Diving  3m springboard   \n",
       "4  Montreal  1976.0  Aquatics     Diving    10m platform   \n",
       "\n",
       "                    Athlete Gender Country_Code        Country Event_gender  \\\n",
       "0           KÖHLER, Christa  Women          GDR   East Germany            W   \n",
       "1       KOSENKOV, Aleksandr    Men          URS   Soviet Union            M   \n",
       "2      BOGGS, Philip George    Men          USA  United States            M   \n",
       "3  CAGNOTTO, Giorgio Franco    Men          ITA          Italy            M   \n",
       "4    WILSON, Deborah Keplar  Women          USA  United States            W   \n",
       "\n",
       "    Medal  \n",
       "0  Silver  \n",
       "1  Bronze  \n",
       "2    Gold  \n",
       "3  Silver  \n",
       "4  Bronze  "
      ]
     },
     "execution_count": 7,
     "metadata": {},
     "output_type": "execute_result"
    }
   ],
   "source": [
    "df.head()"
   ]
  },
  {
   "cell_type": "code",
   "execution_count": 6,
   "metadata": {
    "colab": {},
    "colab_type": "code",
    "id": "M9qTRygGeZBM"
   },
   "outputs": [],
   "source": [
    "Europe = ['HUN', 'AUT', 'GRE', 'GER', 'GBR', 'FRA', 'DEN', 'SUI', 'NED', 'BEL', 'BOH', 'SWE', 'NOR', 'ESP', 'ITA', 'FIN','EST',\n",
    "        'TCH', 'LUX', 'POL', 'POR', 'YUG', 'ROU', 'IRL', 'LAT', 'TUR', 'URS', 'BUL', 'EUA', 'ISL', 'GDR', 'FRG', 'EUN','LTU',\n",
    "        'CRO', 'SLO', 'RUS', 'UKR', 'CZE', 'BLR', 'SVK', 'MDA', 'GEO', 'MKD', 'SCG', 'SRB']\n",
    "North_America = ['USA', 'CAN', 'ISV', 'BAR']\n",
    "Central_America = ['CUB', 'HAI', 'MEX', 'PAN', 'JAM', 'PUR', 'TRI', 'BAH', 'BER', 'DOM', 'CRC']\n",
    "South_America = ['BRA', 'ARG', 'URU', 'CHI', 'PER', 'VEN', 'COL', 'GUY', 'SUR', 'ECU', 'PAR']\n",
    "Africa = ['RSA', 'EGY', 'ETH', 'MAR', 'GHA', 'KEN', 'NGR', 'UGA', 'CMR', 'NIG', 'TAN', 'ZIM', 'CIV', 'ZAM', 'ALG', 'SEN',\n",
    "        'DJI', 'NAM', 'BDI', 'MOZ', 'ERI', 'SUD', 'MRI', 'TOG']\n",
    "Asia = ['IND', 'JPN', 'PHI', 'SRI', 'KOR', 'IRI', 'LIB', 'PAK', 'TPE', 'IRQ', 'SIN', 'TUN', 'MGL', 'PRK', 'THA', 'CHN','SYR',\n",
    "      'INA', 'QAT', 'MAS', 'ISR', 'KAZ', 'UZB', 'HKG', 'ARM', 'AZE', 'KSA', 'KGZ', 'KUW', 'VIE', 'UAE', 'TJK', 'AFG']\n",
    "Oceania = ['AUS', 'ANZ', 'NZL', 'TGA']\n",
    "Others = ['ZZX', 'RU1', 'BWI', 'AHO', 'IOP']"
   ]
  },
  {
   "cell_type": "markdown",
   "metadata": {
    "colab_type": "text",
    "id": "RoOSc1S6eZBO"
   },
   "source": [
    "Based on Altair_introduction and altair_marks_encodings notebooks create a bar chart a line chart and a scatterplot. Some suggestions:\n",
    "- total of medals by gender\n",
    "- evolution of medals in Spain\n",
    "- number of medals by year and type from USA"
   ]
  },
  {
   "cell_type": "markdown",
   "metadata": {
    "colab_type": "text",
    "id": "gnL1w_baeZBP"
   },
   "source": [
    "Based on altair_data_transformation \n",
    "\n",
    "- create a heatmap showing sports and medals \n",
    "and \n",
    "- a rank of the 10 top countries in Olympic games.\n",
    "\n",
    "Try to create other charts grouping the results by continent."
   ]
  },
  {
   "cell_type": "markdown",
   "metadata": {
    "colab_type": "text",
    "id": "bFX7LCggeZBQ"
   },
   "source": [
    "Save two charts in HTML"
   ]
  },
  {
   "cell_type": "code",
   "execution_count": null,
   "metadata": {},
   "outputs": [],
   "source": []
  }
 ],
 "metadata": {
  "colab": {
   "collapsed_sections": [],
   "name": "OlympicMedals.ipynb",
   "provenance": []
  },
  "kernelspec": {
   "display_name": "Python 3 (ipykernel)",
   "language": "python",
   "name": "python3"
  },
  "language_info": {
   "codemirror_mode": {
    "name": "ipython",
    "version": 3
   },
   "file_extension": ".py",
   "mimetype": "text/x-python",
   "name": "python",
   "nbconvert_exporter": "python",
   "pygments_lexer": "ipython3",
   "version": "3.9.4"
  }
 },
 "nbformat": 4,
 "nbformat_minor": 4
}
